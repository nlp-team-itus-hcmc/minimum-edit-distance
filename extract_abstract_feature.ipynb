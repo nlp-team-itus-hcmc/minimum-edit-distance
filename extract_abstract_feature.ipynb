{
 "cells": [
  {
   "cell_type": "markdown",
   "metadata": {},
   "source": [
    "# Read raw data"
   ]
  },
  {
   "cell_type": "code",
   "execution_count": 1,
   "metadata": {
    "collapsed": true
   },
   "outputs": [],
   "source": [
    "# -*- coding: utf-8 -*-"
   ]
  },
  {
   "cell_type": "code",
   "execution_count": 2,
   "metadata": {
    "collapsed": true
   },
   "outputs": [],
   "source": [
    "list_sentence_1 = []\n",
    "list_sentence_2 = []"
   ]
  },
  {
   "cell_type": "code",
   "execution_count": 3,
   "metadata": {
    "collapsed": true
   },
   "outputs": [],
   "source": [
    "with open(\"vnPara/Sentences1.txt\") as fin:\n",
    "    for line in fin:\n",
    "        list_sentence_1.append(line.decode('utf8'))"
   ]
  },
  {
   "cell_type": "code",
   "execution_count": 4,
   "metadata": {},
   "outputs": [
    {
     "name": "stdout",
     "output_type": "stream",
     "text": [
      "3083\n"
     ]
    }
   ],
   "source": [
    "print len(list_sentence_1)"
   ]
  },
  {
   "cell_type": "code",
   "execution_count": 5,
   "metadata": {
    "collapsed": true
   },
   "outputs": [],
   "source": [
    "with open(\"vnPara/Sentences2.txt\") as fin:\n",
    "    for line in fin:\n",
    "        list_sentence_2.append(line.decode('utf8'))"
   ]
  },
  {
   "cell_type": "code",
   "execution_count": 6,
   "metadata": {
    "scrolled": true
   },
   "outputs": [
    {
     "name": "stdout",
     "output_type": "stream",
     "text": [
      "3083\n"
     ]
    }
   ],
   "source": [
    "print len(list_sentence_2)"
   ]
  },
  {
   "cell_type": "markdown",
   "metadata": {},
   "source": [
    "# Preprocess data"
   ]
  },
  {
   "cell_type": "code",
   "execution_count": 68,
   "metadata": {
    "collapsed": true
   },
   "outputs": [],
   "source": [
    "import re\n",
    "import sys\n",
    "import string"
   ]
  },
  {
   "cell_type": "code",
   "execution_count": 7,
   "metadata": {
    "collapsed": true
   },
   "outputs": [],
   "source": [
    "number_sentences = len(list_sentence_1)"
   ]
  },
  {
   "cell_type": "markdown",
   "metadata": {},
   "source": [
    "# Extract to abstract levels"
   ]
  },
  {
   "cell_type": "markdown",
   "metadata": {},
   "source": [
    "Remove non-alphanumeric characters"
   ]
  },
  {
   "cell_type": "code",
   "execution_count": 66,
   "metadata": {
    "collapsed": true
   },
   "outputs": [],
   "source": [
    "def remove_special_chars(sentence, keep_under_score):\n",
    "    sentence = sentence.lower()\n",
    "    sentence = re.sub(r'(v\\s\\.\\sv\\s.)', '', sentence, re.UNICODE)\n",
    "    if keep_under_score:\n",
    "        sub_string = ''.join(ch for ch in sentence if (unicode.isalnum(ch) or ch == ' ' or ch == '_'))\n",
    "    else:\n",
    "        sub_string = ''.join(ch for ch in sentence if (unicode.isalnum(ch) or ch == ' '))\n",
    "    sub_string_2 = re.sub('\\s{2,}', ' ', sub_string, re.UNICODE)\n",
    "    return sub_string_2"
   ]
  },
  {
   "cell_type": "markdown",
   "metadata": {},
   "source": [
    "Create list sentence pair"
   ]
  },
  {
   "cell_type": "code",
   "execution_count": 85,
   "metadata": {
    "collapsed": true
   },
   "outputs": [],
   "source": [
    "def create_list_pair(sentences1, sentences2, keep_under_score = True):\n",
    "    number_sentences = len(sentences1)\n",
    "    list_sentences = []\n",
    "    for i in range(number_sentences):\n",
    "        s1 = remove_special_chars(sentences1[i], keep_under_score)\n",
    "        s2 = remove_special_chars(sentences2[i], keep_under_score)\n",
    "        s = {'s1': s1, 's2': s2}\n",
    "        list_sentences.append(s)\n",
    "    return list_sentences"
   ]
  },
  {
   "cell_type": "markdown",
   "metadata": {},
   "source": [
    "Function write to file"
   ]
  },
  {
   "cell_type": "code",
   "execution_count": 67,
   "metadata": {
    "collapsed": true
   },
   "outputs": [],
   "source": [
    "def write_to_file(file_name_1, file_name_2, pairs):\n",
    "    fout1 = open(file_name_1, 'w')\n",
    "    fout2 = open(file_name_2, 'w')\n",
    "    for pair in pairs:\n",
    "        s1 = pair['s1'] + '\\n'\n",
    "        s2 = pair['s2'] + '\\n'\n",
    "        fout1.write(s1.encode('utf8'))\n",
    "        fout2.write(s2.encode('utf8'))\n",
    "    fout1.close()\n",
    "    fout2.close()"
   ]
  },
  {
   "cell_type": "markdown",
   "metadata": {},
   "source": [
    "## Level 1: words"
   ]
  },
  {
   "cell_type": "markdown",
   "metadata": {},
   "source": [
    "Create pairs"
   ]
  },
  {
   "cell_type": "code",
   "execution_count": 86,
   "metadata": {},
   "outputs": [],
   "source": [
    "pairs_level_1 = create_list_pair(list_sentence_1, list_sentence_2, False)"
   ]
  },
  {
   "cell_type": "markdown",
   "metadata": {},
   "source": [
    "Write to file"
   ]
  },
  {
   "cell_type": "code",
   "execution_count": 87,
   "metadata": {},
   "outputs": [],
   "source": [
    "write_to_file('extracted_sentences/abstract_sentences/sentences_1_level_1.txt', 'extracted_sentences/abstract_sentences/sentences_2_level_1.txt', pairs_level_1)"
   ]
  },
  {
   "cell_type": "markdown",
   "metadata": {},
   "source": [
    "## Level 2: Syllables"
   ]
  },
  {
   "cell_type": "markdown",
   "metadata": {},
   "source": [
    "Read data from file was extract to each syllables"
   ]
  },
  {
   "cell_type": "code",
   "execution_count": 38,
   "metadata": {
    "collapsed": true
   },
   "outputs": [],
   "source": [
    "import codecs"
   ]
  },
  {
   "cell_type": "code",
   "execution_count": 55,
   "metadata": {},
   "outputs": [
    {
     "name": "stdout",
     "output_type": "stream",
     "text": [
      "3083\n",
      "Một lần nữa cần phải khẳng_định , không có một công_thức chung nào trong nghề sales này cả và sự chuyên_nghiệp của người này không_thể bê nguyên cho người khác .\n",
      "Một lần nữa cần phải khẳng định , không có một công thức chung nào trong nghề sales này cả và sự chuyên nghiệp của người này không thể bê nguyên cho người khác . \n",
      "\n"
     ]
    }
   ],
   "source": [
    "fin1 = codecs.open(\"vnPara_parsed/Sentences1_syllables.txt\", 'r', encoding='utf-8')\n",
    "list_sentences_1_level2 = []\n",
    "for line in fin1:\n",
    "    list_sentences_1_level2.append(line.strip())\n",
    "    \n",
    "del list_sentences_1_level2[-1] # last sentence only contain '\\n' char, so remove it\n",
    "print len(list_sentences_1_level2)\n",
    "print list_sentences_1_level2[-1]\n",
    "print list_sentence_1[-1]"
   ]
  },
  {
   "cell_type": "code",
   "execution_count": 56,
   "metadata": {
    "scrolled": true
   },
   "outputs": [
    {
     "name": "stdout",
     "output_type": "stream",
     "text": [
      "3083\n",
      "Cũng như trong bóng_chày , cầu_thủ ném bóng phải chạy về các chốt khoảng bốn lần trong suốt trận_đấu - điều này đồng_nghĩa với việc anh ta nhất_thiết phải chạy về chốt thứ nhất từ ba đến bốn hoặc năm lần trong trận_đấu , dù có đánh trúng hay không .\n",
      "Cũng như trong bóng chày , cầu thủ ném bóng phải chạy về các chốt khoảng bốn lần trong suốt trận đấu – điều này đồng nghĩa với việc anh ta nhất thiết phải chạy về chốt thứ nhất từ ba đến bốn hoặc năm lần trong trận đấu , dù có đánh trúng hay không . \n",
      "\n"
     ]
    }
   ],
   "source": [
    "fin1 = codecs.open(\"vnPara_parsed/Sentences2_syllables.txt\", 'r', encoding='utf-8')\n",
    "list_sentences_2_level2 = []\n",
    "for line in fin1:\n",
    "    list_sentences_2_level2.append(line.strip())\n",
    "\n",
    "del list_sentences_2_level2[-1] # last sentence only contain '\\n' char, so remove it\n",
    "print len(list_sentences_2_level2)\n",
    "print list_sentences_2_level2[-1]\n",
    "print list_sentence_2[-1]"
   ]
  },
  {
   "cell_type": "markdown",
   "metadata": {},
   "source": [
    "Create pairs in level 2"
   ]
  },
  {
   "cell_type": "code",
   "execution_count": 88,
   "metadata": {
    "collapsed": true
   },
   "outputs": [],
   "source": [
    "pairs_level_2 = create_list_pair(list_sentences_1_level2, list_sentences_2_level2)"
   ]
  },
  {
   "cell_type": "markdown",
   "metadata": {},
   "source": [
    "Write to file"
   ]
  },
  {
   "cell_type": "code",
   "execution_count": 89,
   "metadata": {
    "collapsed": true
   },
   "outputs": [],
   "source": [
    "write_to_file('extracted_sentences/abstract_sentences/sentences_1_level_2.txt', 'extracted_sentences/abstract_sentences/sentences_2_level_2.txt', pairs_level_2)"
   ]
  },
  {
   "cell_type": "code",
   "execution_count": null,
   "metadata": {
    "collapsed": true
   },
   "outputs": [],
   "source": []
  }
 ],
 "metadata": {
  "kernelspec": {
   "display_name": "Python 2",
   "language": "python",
   "name": "python2"
  },
  "language_info": {
   "codemirror_mode": {
    "name": "ipython",
    "version": 2
   },
   "file_extension": ".py",
   "mimetype": "text/x-python",
   "name": "python",
   "nbconvert_exporter": "python",
   "pygments_lexer": "ipython2",
   "version": "2.7.14"
  }
 },
 "nbformat": 4,
 "nbformat_minor": 2
}
