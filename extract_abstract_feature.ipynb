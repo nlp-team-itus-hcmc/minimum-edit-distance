{
 "cells": [
  {
   "cell_type": "markdown",
   "metadata": {},
   "source": [
    "# Read raw data"
   ]
  },
  {
   "cell_type": "code",
   "execution_count": 1,
   "metadata": {
    "collapsed": true
   },
   "outputs": [],
   "source": [
    "# -*- coding: utf-8 -*-"
   ]
  },
  {
   "cell_type": "code",
   "execution_count": 2,
   "metadata": {
    "collapsed": true
   },
   "outputs": [],
   "source": [
    "list_sentence_1 = []\n",
    "list_sentence_2 = []"
   ]
  },
  {
   "cell_type": "code",
   "execution_count": 3,
   "metadata": {
    "collapsed": true
   },
   "outputs": [],
   "source": [
    "with open(\"vnPara/Sentences1.txt\") as fin:\n",
    "    for line in fin:\n",
    "        list_sentence_1.append(line.decode('utf8'))"
   ]
  },
  {
   "cell_type": "code",
   "execution_count": 4,
   "metadata": {},
   "outputs": [
    {
     "name": "stdout",
     "output_type": "stream",
     "text": [
      "3083\n"
     ]
    }
   ],
   "source": [
    "print len(list_sentence_1)"
   ]
  },
  {
   "cell_type": "code",
   "execution_count": 5,
   "metadata": {
    "collapsed": true
   },
   "outputs": [],
   "source": [
    "with open(\"vnPara/Sentences2.txt\") as fin:\n",
    "    for line in fin:\n",
    "        list_sentence_2.append(line.decode('utf8'))"
   ]
  },
  {
   "cell_type": "code",
   "execution_count": 6,
   "metadata": {
    "scrolled": true
   },
   "outputs": [
    {
     "name": "stdout",
     "output_type": "stream",
     "text": [
      "3083\n"
     ]
    }
   ],
   "source": [
    "print len(list_sentence_2)"
   ]
  },
  {
   "cell_type": "markdown",
   "metadata": {},
   "source": [
    "# Preprocess data"
   ]
  },
  {
   "cell_type": "code",
   "execution_count": 7,
   "metadata": {
    "collapsed": true
   },
   "outputs": [],
   "source": [
    "number_sentences = len(list_sentence_1)"
   ]
  },
  {
   "cell_type": "markdown",
   "metadata": {},
   "source": [
    "# Extract to abstract levels"
   ]
  },
  {
   "cell_type": "markdown",
   "metadata": {},
   "source": [
    "## Level 1: words"
   ]
  },
  {
   "cell_type": "code",
   "execution_count": 8,
   "metadata": {
    "collapsed": true
   },
   "outputs": [],
   "source": [
    "import re\n",
    "import sys\n",
    "import string"
   ]
  },
  {
   "cell_type": "code",
   "execution_count": 29,
   "metadata": {},
   "outputs": [],
   "source": [
    "def make_level_words(sentence):\n",
    "    sentence = sentence.lower()\n",
    "    sentence = re.sub(r'(v\\s\\.\\sv\\s.)', '', sentence, re.UNICODE)\n",
    "    sub_string = ''.join(ch for ch in sentence if (unicode.isalnum(ch) or ch == ' '))\n",
    "    sub_string_2 = re.sub('\\s{2,}', ' ', sub_string, re.UNICODE)\n",
    "    return sub_string_2"
   ]
  },
  {
   "cell_type": "code",
   "execution_count": 30,
   "metadata": {
    "scrolled": true
   },
   "outputs": [
    {
     "data": {
      "text/plain": [
       "u'ta kh\\xf4ng c\\xf3 l\\u1ee3i th\\u1ebf trong vi\\u1ec7c ch\\u01a1i b\\xf3ng b\\u1ed5ng v\\xe0 r\\u1ea5t kh\\xf3 kh\\u0103n khi b\\u1ea1n d\\xf9ng s\\u1ee9c m\\u1ea1nh t\\u1ed1c \\u0111\\u1ed9 '"
      ]
     },
     "execution_count": 30,
     "metadata": {},
     "output_type": "execute_result"
    }
   ],
   "source": [
    "make_level_words(list_sentence_1[7])"
   ]
  },
  {
   "cell_type": "code",
   "execution_count": 31,
   "metadata": {
    "collapsed": true
   },
   "outputs": [],
   "source": [
    "sentences_level_words = []"
   ]
  },
  {
   "cell_type": "code",
   "execution_count": 32,
   "metadata": {
    "collapsed": true
   },
   "outputs": [],
   "source": [
    "for i in range(number_sentences):\n",
    "    s1 = make_level_words(list_sentence_1[i])\n",
    "    s2 = make_level_words(list_sentence_2[i])\n",
    "    s = {'s1': s1, 's2': s2}\n",
    "    sentences_level_words.append(s)"
   ]
  },
  {
   "cell_type": "markdown",
   "metadata": {},
   "source": [
    "Write to file"
   ]
  },
  {
   "cell_type": "code",
   "execution_count": 33,
   "metadata": {
    "collapsed": true
   },
   "outputs": [],
   "source": [
    "fout1 = open('extracted_sentences/abstract_sentences/words_level_s1.txt', 'w')\n",
    "fout2 = open('extracted_sentences/abstract_sentences/words_level_s2.txt', 'w')"
   ]
  },
  {
   "cell_type": "code",
   "execution_count": 34,
   "metadata": {
    "collapsed": true
   },
   "outputs": [],
   "source": [
    "for pair in sentences_level_words:\n",
    "    s1 = pair['s1'] + '\\n'\n",
    "    s2 = pair['s2'] + '\\n'\n",
    "    fout1.write(s1.encode('utf8'))\n",
    "    fout2.write(s2.encode('utf8'))"
   ]
  },
  {
   "cell_type": "code",
   "execution_count": 35,
   "metadata": {
    "collapsed": true
   },
   "outputs": [],
   "source": [
    "fout1.close()\n",
    "fout2.close()"
   ]
  }
 ],
 "metadata": {
  "kernelspec": {
   "display_name": "Python 2",
   "language": "python",
   "name": "python2"
  },
  "language_info": {
   "codemirror_mode": {
    "name": "ipython",
    "version": 2
   },
   "file_extension": ".py",
   "mimetype": "text/x-python",
   "name": "python",
   "nbconvert_exporter": "python",
   "pygments_lexer": "ipython2",
   "version": "2.7.14"
  }
 },
 "nbformat": 4,
 "nbformat_minor": 2
}
