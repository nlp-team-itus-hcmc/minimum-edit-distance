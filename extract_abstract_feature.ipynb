{
 "cells": [
  {
   "cell_type": "markdown",
   "metadata": {},
   "source": [
    "# Read raw data"
   ]
  },
  {
   "cell_type": "code",
   "execution_count": 1,
   "metadata": {
    "collapsed": true
   },
   "outputs": [],
   "source": [
    "list_sentence_1 = []\n",
    "list_sentence_2 = []"
   ]
  },
  {
   "cell_type": "code",
   "execution_count": 2,
   "metadata": {},
   "outputs": [],
   "source": [
    "with open(\"vnPara/Sentences1.txt\") as fin:\n",
    "    for line in fin:\n",
    "        list_sentence_1.append(line.decode('utf8'))"
   ]
  },
  {
   "cell_type": "code",
   "execution_count": 3,
   "metadata": {},
   "outputs": [
    {
     "name": "stdout",
     "output_type": "stream",
     "text": [
      "3083\n"
     ]
    }
   ],
   "source": [
    "print len(list_sentence_1)"
   ]
  },
  {
   "cell_type": "code",
   "execution_count": 4,
   "metadata": {
    "collapsed": true
   },
   "outputs": [],
   "source": [
    "with open(\"vnPara/Sentences2.txt\") as fin:\n",
    "    for line in fin:\n",
    "        list_sentence_2.append(line.decode('utf8'))"
   ]
  },
  {
   "cell_type": "code",
   "execution_count": 5,
   "metadata": {
    "scrolled": true
   },
   "outputs": [
    {
     "name": "stdout",
     "output_type": "stream",
     "text": [
      "3083\n"
     ]
    }
   ],
   "source": [
    "print len(list_sentence_2)"
   ]
  },
  {
   "cell_type": "markdown",
   "metadata": {},
   "source": [
    "# Preprocess data"
   ]
  },
  {
   "cell_type": "code",
   "execution_count": 6,
   "metadata": {
    "collapsed": true
   },
   "outputs": [],
   "source": [
    "number_sentences = len(list_sentence_1)"
   ]
  },
  {
   "cell_type": "markdown",
   "metadata": {},
   "source": [
    "## Level 1: words"
   ]
  },
  {
   "cell_type": "code",
   "execution_count": 7,
   "metadata": {
    "collapsed": true
   },
   "outputs": [],
   "source": [
    "import re\n",
    "import sys"
   ]
  },
  {
   "cell_type": "code",
   "execution_count": 47,
   "metadata": {},
   "outputs": [],
   "source": [
    "def make_level_words(string):\n",
    "    print string\n",
    "    string = string.lower()\n",
    "    pattern = re.compile('^[\\?\\.\\+:,&%!\\(\\)]\\\"')\n",
    "    sub_string = re.sub(r'[\\?\\.\\+:,&%!\\(\\)]', '', string, re.UNICODE)\n",
    "    pattern2 = re.compile('\\s+')\n",
    "    sub_string_2 = re.sub(pattern2, ' ', sub_string, re.UNICODE)\n",
    "    print sub_string_2\n",
    "    return sub_string_2"
   ]
  },
  {
   "cell_type": "code",
   "execution_count": 48,
   "metadata": {},
   "outputs": [
    {
     "name": "stdout",
     "output_type": "stream",
     "text": [
      "Đúng như câu nói của một vị quan chức VFF tại cuộc họp rút kinh nghiệm ( sáng ngày 21/12/2007 ) : “ Vấn đề chính lúc này là phải xác định cho được bóng đá Việt Nam đang ở đâu có cái gì trong tay\n",
      "\n",
      "đúng như câu nói của một vị quan chức vff tại cuộc họp rút kinh nghiệm sáng ngày 21/12/2007 “ vấn đề chính lúc này là phải xác định cho được bóng đá việt nam đang ở đâu có cái gì trong tay\n",
      "\n"
     ]
    },
    {
     "data": {
      "text/plain": [
       "u'\\u0111\\xfang nh\\u01b0 c\\xe2u n\\xf3i c\\u1ee7a m\\u1ed9t v\\u1ecb quan ch\\u1ee9c vff t\\u1ea1i cu\\u1ed9c h\\u1ecdp r\\xfat kinh nghi\\u1ec7m s\\xe1ng ng\\xe0y 21/12/2007 \\u201c v\\u1ea5n \\u0111\\u1ec1 ch\\xednh l\\xfac n\\xe0y l\\xe0 ph\\u1ea3i x\\xe1c \\u0111\\u1ecbnh cho \\u0111\\u01b0\\u1ee3c b\\xf3ng \\u0111\\xe1 vi\\u1ec7t nam \\u0111ang \\u1edf \\u0111\\xe2u c\\xf3 c\\xe1i g\\xec trong tay\\n'"
      ]
     },
     "execution_count": 48,
     "metadata": {},
     "output_type": "execute_result"
    }
   ],
   "source": [
    "make_level_words(list_sentence_1[2])"
   ]
  },
  {
   "cell_type": "code",
   "execution_count": 42,
   "metadata": {},
   "outputs": [
    {
     "name": "stdout",
     "output_type": "stream",
     "text": [
      "Tôi hôm nay nói: \"DM DM Dm\"\n"
     ]
    }
   ],
   "source": [
    "a = 'Tôi hôm nay nói: \"DM DM Dm\"'\n",
    "print a"
   ]
  },
  {
   "cell_type": "code",
   "execution_count": 36,
   "metadata": {},
   "outputs": [
    {
     "name": "stdout",
     "output_type": "stream",
     "text": [
      "Tôi hôm nay nói: DM DM Dm\n"
     ]
    }
   ],
   "source": [
    "b = a.replace('\"', '')\n",
    "print b"
   ]
  },
  {
   "cell_type": "code",
   "execution_count": 138,
   "metadata": {
    "collapsed": true
   },
   "outputs": [],
   "source": [
    "sentences_level_words = []"
   ]
  },
  {
   "cell_type": "code",
   "execution_count": 139,
   "metadata": {
    "collapsed": true
   },
   "outputs": [],
   "source": [
    "for i in range(number_sentences):\n",
    "    s1 = make_level_words(list_sentence_1[i])\n",
    "    s2 = make_level_words(list_sentence_2[i])\n",
    "    s = {'s1': s1, 's2': s2}\n",
    "    sentences_level_words.append(s)"
   ]
  },
  {
   "cell_type": "markdown",
   "metadata": {},
   "source": [
    "Write to file"
   ]
  },
  {
   "cell_type": "code",
   "execution_count": 141,
   "metadata": {
    "collapsed": true
   },
   "outputs": [],
   "source": [
    "fout1 = open('extracted_sentences/abstract_sentences/words_level_s1.txt', 'a')\n",
    "fout2 = open('extracted_sentences/abstract_sentences/words_level_s2.txt', 'a')"
   ]
  },
  {
   "cell_type": "code",
   "execution_count": 142,
   "metadata": {},
   "outputs": [],
   "source": [
    "for pair in sentences_level_words:\n",
    "    s1 = pair['s1'] + '\\n'\n",
    "    s2 = pair['s2'] + '\\n'\n",
    "    fout1.write(s1.encode('utf8'))\n",
    "    fout2.write(s2.encode('utf8'))"
   ]
  },
  {
   "cell_type": "code",
   "execution_count": 143,
   "metadata": {
    "collapsed": true
   },
   "outputs": [],
   "source": [
    "fout1.close()\n",
    "fout2.close()"
   ]
  },
  {
   "cell_type": "markdown",
   "metadata": {},
   "source": [
    "# Extract to abstract levels"
   ]
  }
 ],
 "metadata": {
  "kernelspec": {
   "display_name": "Python 2",
   "language": "python",
   "name": "python2"
  },
  "language_info": {
   "codemirror_mode": {
    "name": "ipython",
    "version": 2
   },
   "file_extension": ".py",
   "mimetype": "text/x-python",
   "name": "python",
   "nbconvert_exporter": "python",
   "pygments_lexer": "ipython2",
   "version": "2.7.14"
  }
 },
 "nbformat": 4,
 "nbformat_minor": 2
}
