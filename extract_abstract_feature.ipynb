{
 "cells": [
  {
   "cell_type": "markdown",
   "metadata": {},
   "source": [
    "# Read raw data"
   ]
  },
  {
   "cell_type": "code",
   "execution_count": 219,
   "metadata": {
    "collapsed": true
   },
   "outputs": [],
   "source": [
    "# -*- coding: utf-8 -*-"
   ]
  },
  {
   "cell_type": "code",
   "execution_count": 1,
   "metadata": {
    "collapsed": true
   },
   "outputs": [],
   "source": [
    "list_sentence_1 = []\n",
    "list_sentence_2 = []"
   ]
  },
  {
   "cell_type": "code",
   "execution_count": 225,
   "metadata": {},
   "outputs": [],
   "source": [
    "with open(\"vnPara/Sentences1.txt\") as fin:\n",
    "    for line in fin:\n",
    "        list_sentence_1.append(line.decode('utf8'))"
   ]
  },
  {
   "cell_type": "code",
   "execution_count": 3,
   "metadata": {},
   "outputs": [
    {
     "name": "stdout",
     "output_type": "stream",
     "text": [
      "3083\n"
     ]
    }
   ],
   "source": [
    "print len(list_sentence_1)"
   ]
  },
  {
   "cell_type": "code",
   "execution_count": 4,
   "metadata": {
    "collapsed": true
   },
   "outputs": [],
   "source": [
    "with open(\"vnPara/Sentences2.txt\") as fin:\n",
    "    for line in fin:\n",
    "        list_sentence_2.append(line.decode('utf8'))"
   ]
  },
  {
   "cell_type": "code",
   "execution_count": 5,
   "metadata": {
    "scrolled": true
   },
   "outputs": [
    {
     "name": "stdout",
     "output_type": "stream",
     "text": [
      "3083\n"
     ]
    }
   ],
   "source": [
    "print len(list_sentence_2)"
   ]
  },
  {
   "cell_type": "markdown",
   "metadata": {},
   "source": [
    "# Preprocess data"
   ]
  },
  {
   "cell_type": "code",
   "execution_count": 6,
   "metadata": {
    "collapsed": true
   },
   "outputs": [],
   "source": [
    "number_sentences = len(list_sentence_1)"
   ]
  },
  {
   "cell_type": "markdown",
   "metadata": {},
   "source": [
    "# Extract to abstract levels"
   ]
  },
  {
   "cell_type": "markdown",
   "metadata": {},
   "source": [
    "## Level 1: words"
   ]
  },
  {
   "cell_type": "code",
   "execution_count": 166,
   "metadata": {
    "collapsed": true
   },
   "outputs": [],
   "source": [
    "import re\n",
    "import sys\n",
    "import string"
   ]
  },
  {
   "cell_type": "code",
   "execution_count": 303,
   "metadata": {
    "collapsed": true
   },
   "outputs": [],
   "source": [
    "def make_level_words(sentence):\n",
    "    sentence = sentence.lower()\n",
    "    sub_string = ''.join(ch for ch in sentence if (unicode.isalnum(ch) or ch == ' '))\n",
    "    sub_string_2 = re.sub('\\s{2,}', ' ', sub_string, re.UNICODE)\n",
    "    return sub_string_2"
   ]
  },
  {
   "cell_type": "code",
   "execution_count": 304,
   "metadata": {
    "scrolled": true
   },
   "outputs": [
    {
     "data": {
      "text/plain": [
       "u'v\\u1ec1 nguy\\xean nh\\xe2n th\\u1ea5t b\\u1ea1i c\\u1ee7a u23 vi\\u1ec7t nam \\u0111\\xe3 \\u0111\\u01b0\\u1ee3c t\\xecm ra c\\u1ea7u th\\u1ee7 m\\u1ea5t phong \\u0111\\u1ed9 thi \\u0111\\u1ea5u ch\\u1ecdn sai \\u0111i\\u1ec3m r\\u01a1i phong \\u0111\\u1ed9 nhi\\u1ec1u c\\u1ea7u th\\u1ee7 tr\\u1ee5 c\\u1ed9t b\\u1ecb ch\\u1ea5n th\\u01b0\\u01a1ng l\\u1ecbch thi \\u0111\\u1ea5u thi\\u1ebfu khoa h\\u1ecdc thi\\u1ebfu hi\\u1ec3u bi\\u1ebft v\\u1ec1 \\u0111\\u1ed1i th\\u1ee7 c\\xf3 sai l\\u1ea7m v\\u1ec1 chi\\u1ebfn thu\\u1eadt b\\u1ea3n l\\u0129nh thi \\u0111\\u1ea5u y\\u1ebfu k\\xe9m '"
      ]
     },
     "execution_count": 304,
     "metadata": {},
     "output_type": "execute_result"
    }
   ],
   "source": [
    "make_level_words(list_sentence_1[0])"
   ]
  },
  {
   "cell_type": "code",
   "execution_count": 305,
   "metadata": {
    "collapsed": true
   },
   "outputs": [],
   "source": [
    "sentences_level_words = []"
   ]
  },
  {
   "cell_type": "code",
   "execution_count": 306,
   "metadata": {},
   "outputs": [],
   "source": [
    "for i in range(number_sentences):\n",
    "    s1 = make_level_words(list_sentence_1[i])\n",
    "    s2 = make_level_words(list_sentence_2[i])\n",
    "    s = {'s1': s1, 's2': s2}\n",
    "    sentences_level_words.append(s)"
   ]
  },
  {
   "cell_type": "markdown",
   "metadata": {},
   "source": [
    "Write to file"
   ]
  },
  {
   "cell_type": "code",
   "execution_count": 309,
   "metadata": {
    "collapsed": true
   },
   "outputs": [],
   "source": [
    "fout1 = open('extracted_sentences/abstract_sentences/words_level_s1.txt', 'a')\n",
    "fout2 = open('extracted_sentences/abstract_sentences/words_level_s2.txt', 'a')"
   ]
  },
  {
   "cell_type": "code",
   "execution_count": 310,
   "metadata": {
    "collapsed": true
   },
   "outputs": [],
   "source": [
    "for pair in sentences_level_words:\n",
    "    s1 = pair['s1'] + '\\n'\n",
    "    s2 = pair['s2'] + '\\n'\n",
    "    fout1.write(s1.encode('utf8'))\n",
    "    fout2.write(s2.encode('utf8'))"
   ]
  },
  {
   "cell_type": "code",
   "execution_count": 311,
   "metadata": {
    "collapsed": true
   },
   "outputs": [],
   "source": [
    "fout1.close()\n",
    "fout2.close()"
   ]
  }
 ],
 "metadata": {
  "kernelspec": {
   "display_name": "Python 2",
   "language": "python",
   "name": "python2"
  },
  "language_info": {
   "codemirror_mode": {
    "name": "ipython",
    "version": 2
   },
   "file_extension": ".py",
   "mimetype": "text/x-python",
   "name": "python",
   "nbconvert_exporter": "python",
   "pygments_lexer": "ipython2",
   "version": "2.7.14"
  }
 },
 "nbformat": 4,
 "nbformat_minor": 2
}
